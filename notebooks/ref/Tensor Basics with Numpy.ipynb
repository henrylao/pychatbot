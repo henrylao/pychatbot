{
 "cells": [
  {
   "cell_type": "markdown",
   "metadata": {},
   "source": [
    "# Intro to Tensors with Numpy\n",
    "* https://machinelearningmastery.com/introduction-to-tensors-for-machine-learning/#:~:text=A%20tensor%20is%20a%20generalization,understood%20as%20a%20multidimensional%20array.&text=It%20is%20a%20term%20and,described%20in%20terms%20of%20tensors.\n",
    "\n",
    "\n",
    "* What is a tensor?\n",
    "> \"A type of data structure from linear algebra. They are similar to vectors and matrices in that you can perform arithmetic operations with them\"\n",
    "\n",
    "* Notebook Goals:\n",
    "1. Understand how tensors are a generalization of matrices and are represented using n-dimensial arrays\n",
    "2. Understand how to perform element-wise operations with tensors\n",
    "3. Understand how to perform the tensor product\n"
   ]
  },
  {
   "cell_type": "markdown",
   "metadata": {},
   "source": [
    "### What are Tensors?\n",
    "> Tensors are multidimensional arrays\n",
    "> Generally speaking, any array of numbers arranged on a regular grid w/ a variable number of axes is a tensor\n",
    "\n",
    "Consider a vector $\\vec{v}$ that is <b>one-dimensional</b>. The tensor equivalent is a <b>first order tensor</b>. \n",
    "\n",
    "Now consider a matrix which is a <b>two-dimensional</b> -- ie a <b>second order tensor</b>.\n",
    "\n",
    "Consider the following a 3x3x3 tensor represented as a NumPy ndarray"
   ]
  },
  {
   "cell_type": "code",
   "execution_count": 2,
   "metadata": {},
   "outputs": [
    {
     "name": "stdout",
     "output_type": "stream",
     "text": [
      "(3, 3, 3)\n",
      "[[[ 1  2  3]\n",
      "  [ 4  5  6]\n",
      "  [ 7  8  9]]\n",
      "\n",
      " [[11 12 13]\n",
      "  [14 15 16]\n",
      "  [17 18 19]]\n",
      "\n",
      " [[21 22 23]\n",
      "  [24 25 26]\n",
      "  [27 28 29]]]\n"
     ]
    }
   ],
   "source": [
    "import numpy as np\n",
    "T = np.array([\n",
    "  [[1,2,3],    [4,5,6],    [7,8,9]],\n",
    "  [[11,12,13], [14,15,16], [17,18,19]],\n",
    "  [[21,22,23], [24,25,26], [27,28,29]],\n",
    "  ])\n",
    "print(T.shape) \n",
    "print(T)"
   ]
  },
  {
   "cell_type": "code",
   "execution_count": 11,
   "metadata": {},
   "outputs": [
    {
     "name": "stdout",
     "output_type": "stream",
     "text": [
      "3-dimensional array\n"
     ]
    }
   ],
   "source": [
    "# length of the ndarray denotes the number dimensions\n",
    "print(\"{}-dimensional array\".format(len(T.shape)))"
   ]
  },
  {
   "cell_type": "code",
   "execution_count": 13,
   "metadata": {},
   "outputs": [
    {
     "name": "stdout",
     "output_type": "stream",
     "text": [
      "Axis 0: Level 0\n",
      " [[1 2 3]\n",
      " [4 5 6]\n",
      " [7 8 9]] \n",
      "\n",
      "Axis 0: Level 1\n",
      " [[11 12 13]\n",
      " [14 15 16]\n",
      " [17 18 19]] \n",
      "\n",
      "Axis 0: Level 2\n",
      " [[21 22 23]\n",
      " [24 25 26]\n",
      " [27 28 29]] \n",
      "\n"
     ]
    }
   ],
   "source": [
    "print(\"Axis 0: Level 0\\n\",T[0],\"\\n\") # accessing axis 0 --> accessing the level 0\n",
    "print(\"Axis 0: Level 1\\n\",T[1],\"\\n\") # accessing axis 0 still --> accessing level 1\n",
    "print(\"Axis 0: Level 2\\n\",T[2],\"\\n\") # further accessing axis 0 --> accessing level 2"
   ]
  },
  {
   "cell_type": "code",
   "execution_count": 12,
   "metadata": {},
   "outputs": [
    {
     "name": "stdout",
     "output_type": "stream",
     "text": [
      "[1 2 3]\n",
      "1\n"
     ]
    }
   ],
   "source": [
    "print(T[0][0]) # accessing a specific row=0 for a particular level=0, level 0 row 0\n",
    "print(T[0][0][0]) # accessing a specified row=0, col=0, and level=0"
   ]
  },
  {
   "cell_type": "markdown",
   "metadata": {},
   "source": [
    "### Element-Wise Tensor Operations\n",
    "### Tensor Addition\n",
    "\n",
    "Element-wise addition of two tensors of same dimensions results in a new tensor w/ the same dimensions such that each scalar val is the element-wise addition of the scalars in the parent tensors. This applies the same concepts when working with matrix addition.\n",
    "<br>\n",
    ">$\\begin{pmatrix}\n",
    "a_1 & a_2 & a_3\\\\\n",
    "a_4 & a_5 & a_6\n",
    "\\end{pmatrix} \n",
    "+ \n",
    "\\begin{pmatrix}\n",
    "b_1 & b_2 & b_3\\\\\n",
    "b_4 & b_5 & b_6\n",
    "\\end{pmatrix}\n",
    "=\n",
    "\\begin{pmatrix}\n",
    "a_1 + b_1 & a_2+ b_2 & a_3+b_3\\\\\n",
    "a_4+b_4 & a_5+b_5 & a_6+b_6\n",
    "\\end{pmatrix}$"
   ]
  },
  {
   "cell_type": "code",
   "execution_count": 14,
   "metadata": {},
   "outputs": [
    {
     "name": "stdout",
     "output_type": "stream",
     "text": [
      "[[[ 2  4  6]\n",
      "  [ 8 10 12]\n",
      "  [14 16 18]]\n",
      "\n",
      " [[22 24 26]\n",
      "  [28 30 32]\n",
      "  [34 36 38]]\n",
      "\n",
      " [[42 44 46]\n",
      "  [48 50 52]\n",
      "  [54 56 58]]]\n"
     ]
    }
   ],
   "source": [
    "# tensor addition\n",
    "A = array([\n",
    "  [[1,2,3],    [4,5,6],    [7,8,9]],\n",
    "  [[11,12,13], [14,15,16], [17,18,19]],\n",
    "  [[21,22,23], [24,25,26], [27,28,29]],\n",
    "  ])\n",
    "B = array([\n",
    "  [[1,2,3],    [4,5,6],    [7,8,9]],\n",
    "  [[11,12,13], [14,15,16], [17,18,19]],\n",
    "  [[21,22,23], [24,25,26], [27,28,29]],\n",
    "  ])\n",
    "C = A + B\n",
    "print(C)"
   ]
  },
  {
   "cell_type": "markdown",
   "metadata": {},
   "source": [
    "### Tensor Subtraction\n",
    "The same principles that apply for addition hold for subtraction here. \n",
    "\n",
    "Thoughts:\n",
    "* Can you add tensors of differing dimensions? Matrix addition/subtraction of differing in dimensions is illegal $\\therefore$ this should also apply to tensors as well"
   ]
  },
  {
   "cell_type": "markdown",
   "metadata": {},
   "source": [
    "### Tensors Multiplication: Hadamard Product\n",
    "Multiplication of tensors of the same dimensions results in a new tensor of the same starting dimensions. It is essentially the cross product of 2 matrices.\n",
    "\n",
    ">$\\begin{pmatrix}\n",
    "a_1 & a_2 & a_3\\\\\n",
    "a_4 & a_5 & a_6\n",
    "\\end{pmatrix} \n",
    "\\times\n",
    "\\begin{pmatrix}\n",
    "b_1 & b_2 & b_3\\\\\n",
    "b_4 & b_5 & b_6\n",
    "\\end{pmatrix}\n",
    "=\n",
    "\\begin{pmatrix}\n",
    "a_1 + b_1 & a_2+ b_2 & a_3+b_3\\\\\n",
    "a_4+b_4 & a_5+b_5 & a_6+b_6\n",
    "\\end{pmatrix}$\n"
   ]
  },
  {
   "cell_type": "code",
   "execution_count": 15,
   "metadata": {},
   "outputs": [
    {
     "name": "stdout",
     "output_type": "stream",
     "text": [
      "[[[  1   4   9]\n",
      "  [ 16  25  36]\n",
      "  [ 49  64  81]]\n",
      "\n",
      " [[121 144 169]\n",
      "  [196 225 256]\n",
      "  [289 324 361]]\n",
      "\n",
      " [[441 484 529]\n",
      "  [576 625 676]\n",
      "  [729 784 841]]]\n"
     ]
    }
   ],
   "source": [
    "# tensor Hadamard product\n",
    "from numpy import array\n",
    "A = array([\n",
    "  [[1,2,3],    \n",
    "   [4,5,6],    \n",
    "   [7,8,9]],\n",
    "    \n",
    "  [[11,12,13],\n",
    "   [14,15,16],\n",
    "   [17,18,19]],\n",
    "    \n",
    "  [[21,22,23],\n",
    "   [24,25,26], \n",
    "   [27,28,29]],\n",
    "  ])\n",
    "B = array([\n",
    "  [[1,2,3],    \n",
    "   [4,5,6],    \n",
    "   [7,8,9]],\n",
    "    \n",
    "  [[11,12,13], \n",
    "   [14,15,16],\n",
    "   [17,18,19]],\n",
    "    \n",
    "  [[21,22,23], \n",
    "   [24,25,26], \n",
    "   [27,28,29]],\n",
    "  ])\n",
    "C = A * B\n",
    "print(C)"
   ]
  },
  {
   "cell_type": "markdown",
   "metadata": {},
   "source": [
    "### Tensor Division\n",
    "Same principles from mulitplication, subtraction, and addition apply here."
   ]
  },
  {
   "cell_type": "markdown",
   "metadata": {},
   "source": [
    "### More Tensor Multiplication\n",
    "\n",
    "Usage of the tensor product denoted by $\\otimes$<br>\n",
    "$a=(a_1,a_2), b=(b_1,b_2)$<br>\n",
    "$c = a \\otimes b$<br>\n",
    "\n",
    "$\\equiv\\begin{pmatrix}\n",
    "a_1 \\times [b_1, b_2 ]\\\\\n",
    "a_2 \\times [b_1, b_2]\n",
    "\\end{pmatrix}$  \n",
    "<br>\n",
    "Unrolled:\n",
    "<br>\n",
    "<br>\n",
    "$\\equiv\\begin{pmatrix}\n",
    "a_1 \\times b_1 & a_1\\times b_2\\\\\n",
    "a_2 \\times b_1 & a_1 \\times b_2\n",
    "\\end{pmatrix}$\n",
    "<br>\n",
    "<br>\n",
    "$\\equiv\\begin{pmatrix}\n",
    "a_1b_1 & a_1b_2\\\\\n",
    "a_2b_1 & a_1b_2\n",
    "\\end{pmatrix}$"
   ]
  },
  {
   "cell_type": "code",
   "execution_count": 20,
   "metadata": {},
   "outputs": [
    {
     "name": "stdout",
     "output_type": "stream",
     "text": [
      "[[3 4]\n",
      " [6 8]]\n"
     ]
    },
    {
     "data": {
      "text/plain": [
       "array([3, 8])"
      ]
     },
     "execution_count": 20,
     "metadata": {},
     "output_type": "execute_result"
    }
   ],
   "source": [
    "# tensor product\n",
    "# from numpy import tensordot\n",
    "A = np.array([1,2])  # 2x1 matrix\n",
    "B = np.array([3,4]) # 1x2 matrix \n",
    "C = np.tensordot(A, B, axes=0) # multiplication on a particular axis \n",
    "print(C)\n",
    "A * B"
   ]
  },
  {
   "cell_type": "code",
   "execution_count": 22,
   "metadata": {},
   "outputs": [
    {
     "name": "stdout",
     "output_type": "stream",
     "text": [
      "(2,)\n",
      "(2,)\n"
     ]
    }
   ],
   "source": [
    "print(A.shape)\n",
    "print(B.shape)"
   ]
  },
  {
   "cell_type": "markdown",
   "metadata": {},
   "source": [
    "Can be slightly confusing to understand what's going on here from the blog post. \n",
    "<br>\n",
    "Referring to the numpy documentation:\n",
    "https://numpy.org/doc/stable/reference/generated/numpy.tensordot.html\n",
    "<br>\n",
    "We see that axes specifies the type of operation the function tensorproduct performs. If axes=0, then specified execution of tensor product $a\\otimes b$. If axes=1, then specified tensor dot product $a\\cdot b$. If axes=2, then perform a double contraction, $a : b$.\n",
    "<br>\n"
   ]
  },
  {
   "cell_type": "code",
   "execution_count": 24,
   "metadata": {},
   "outputs": [
    {
     "data": {
      "text/plain": [
       "array(11)"
      ]
     },
     "execution_count": 24,
     "metadata": {},
     "output_type": "execute_result"
    }
   ],
   "source": [
    "np.tensordot(A,B,axes=1) # dot product calculated "
   ]
  },
  {
   "cell_type": "markdown",
   "metadata": {},
   "source": [
    "* Despite understanding the basis of a tensor, the major lingering question is how do tensors relate to neural networks?\n",
    "* Tensor Visuals: https://www.datacamp.com/community/tutorials/investigating-tensors-pytorch\n",
    "* More about the representations of data in the form tensors: \n",
    "https://medium.com/mlait/tensors-representation-of-data-in-neural-networks-bbe8a711b93b"
   ]
  },
  {
   "cell_type": "code",
   "execution_count": null,
   "metadata": {},
   "outputs": [],
   "source": []
  }
 ],
 "metadata": {
  "kernelspec": {
   "display_name": "Python 3",
   "language": "python",
   "name": "python3"
  },
  "language_info": {
   "codemirror_mode": {
    "name": "ipython",
    "version": 3
   },
   "file_extension": ".py",
   "mimetype": "text/x-python",
   "name": "python",
   "nbconvert_exporter": "python",
   "pygments_lexer": "ipython3",
   "version": "3.8.5"
  }
 },
 "nbformat": 4,
 "nbformat_minor": 4
}
