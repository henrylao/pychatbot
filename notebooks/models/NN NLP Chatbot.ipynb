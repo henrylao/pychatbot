{
 "cells": [
  {
   "cell_type": "markdown",
   "metadata": {},
   "source": [
    "# Setup\n"
   ]
  },
  {
   "cell_type": "markdown",
   "metadata": {},
   "source": [
    "### Setup: Import Libraries"
   ]
  },
  {
   "cell_type": "code",
   "execution_count": 16,
   "metadata": {
    "scrolled": true
   },
   "outputs": [
    {
     "name": "stderr",
     "output_type": "stream",
     "text": [
      "[nltk_data] Downloading package punkt to /Users/henrylao/nltk_data...\n",
      "[nltk_data]   Package punkt is already up-to-date!\n",
      "[nltk_data] Downloading package wordnet to\n",
      "[nltk_data]     /Users/henrylao/nltk_data...\n",
      "[nltk_data]   Package wordnet is already up-to-date!\n"
     ]
    }
   ],
   "source": [
    "# Modelling Libraries\n",
    "from keras.models import Sequential\n",
    "from keras.layers import Dense, Activation, Dropout\n",
    "from keras.optimizers import SGD\n",
    "# NLP Libraries\n",
    "import nltk\n",
    "nltk.download('punkt')\n",
    "nltk.download(\"wordnet\")\n",
    "from nltk.stem import WordNetLemmatizer\n",
    "# Utility Libraries\n",
    "import pandas as pd\n",
    "import random\n",
    "import numpy as np\n",
    "import json\n",
    "import pickle\n",
    "from pathlib import Path\n",
    "import os\n",
    "import utils\n"
   ]
  },
  {
   "cell_type": "markdown",
   "metadata": {},
   "source": [
    "### Setup: Project Paths"
   ]
  },
  {
   "cell_type": "code",
   "execution_count": 18,
   "metadata": {},
   "outputs": [
    {
     "name": "stdout",
     "output_type": "stream",
     "text": [
      "ROOT:  ['model_cache', 'res', 'ref', 'input', 'models']\n",
      "INPUT:  ['dzone-intents.json', 'oos-eval', 'tim-intents.json']\n",
      "CACHE:  ['chatbot_model.h5', 'classes.pkl', 'words.pkl', 'oos-chatbot_model.h5', 'oos-words.pkl', 'oos-labels.pkl']\n"
     ]
    }
   ],
   "source": [
    "ROOT = utils.get_project_root()\n",
    "INPUT = ROOT / \"input\" \n",
    "CACHE = ROOT / \"model_cache\" # directory for saving trained models\n",
    "print(\"ROOT: \", os.listdir(ROOT))\n",
    "print(\"INPUT: \", os.listdir(INPUT))\n",
    "print(\"CACHE: \", os.listdir(CACHE))"
   ]
  },
  {
   "cell_type": "markdown",
   "metadata": {},
   "source": [
    "### Setup: Load Data "
   ]
  },
  {
   "cell_type": "code",
   "execution_count": null,
   "metadata": {},
   "outputs": [],
   "source": [
    "lemmatizer = WordNetLemmatizer()\n",
    "# load data\n",
    "with open( INPUT / \"dzone-intents.json\", \"r\") as fh:\n",
    "    intents = json.load(fh)\n",
    "print(intents.keys())\n",
    "# the data is a list of dictionaries\n",
    "print(type(intents['intents']))\n",
    "print(type(intents['intents'][5]))\n",
    "print(intents['intents'][0])"
   ]
  },
  {
   "cell_type": "markdown",
   "metadata": {},
   "source": [
    "# Data Preprocessing\n",
    "* Tokenization of the sentences\n",
    "* Lemmatization of existing words to reduce all the words to their canonical form (same lexeme)\n",
    "    Ex. played, plays, playing -> play"
   ]
  },
  {
   "cell_type": "markdown",
   "metadata": {},
   "source": [
    "### Data Preprocessing: Tokenization"
   ]
  },
  {
   "cell_type": "code",
   "execution_count": null,
   "metadata": {},
   "outputs": [],
   "source": [
    "ignore_chars = \"! ? , .\".split(\" \")\n",
    "# tokenization\n",
    "def tokenize(intents:dict)->tuple:\n",
    "    words, classes, documents = [], [], []\n",
    "    for i in intents[\"intents\"]:\n",
    "        for p in i[\"patterns\"]:\n",
    "            word = nltk.word_tokenize(p)\n",
    "            words.extend(word)\n",
    "            documents.append((word, i['tag']))\n",
    "            if i['tag'] not in classes:\n",
    "                classes.append(i['tag'])\n",
    "    return words, classes, documents\n",
    "\n",
    "(words, classes, documents ) = tokenize(intents)"
   ]
  },
  {
   "cell_type": "code",
   "execution_count": null,
   "metadata": {},
   "outputs": [],
   "source": [
    "documents[:3]"
   ]
  },
  {
   "cell_type": "code",
   "execution_count": null,
   "metadata": {},
   "outputs": [],
   "source": [
    "words[:5]"
   ]
  },
  {
   "cell_type": "code",
   "execution_count": null,
   "metadata": {},
   "outputs": [],
   "source": [
    "classes[:5]"
   ]
  },
  {
   "cell_type": "markdown",
   "metadata": {},
   "source": [
    "Responses appear to never be used here. Atleast in forming the "
   ]
  },
  {
   "cell_type": "markdown",
   "metadata": {},
   "source": [
    "### Data Preprocessing: Lemmatization"
   ]
  },
  {
   "cell_type": "code",
   "execution_count": null,
   "metadata": {},
   "outputs": [],
   "source": [
    "# lemmatization\n",
    "# tranformation of words into a lemma form such that they can be reduced\n",
    "# to canonical words\n",
    "# Ex. play, played, plays, playing --> are all mean play\n",
    "# Reason: reduce number of total words in the model's vocab\n",
    "words = [lemmatizer.lemmatize(w.lower()) \n",
    "         for w in words if w not in ignore_chars]\n",
    "words = sorted(list(set(words)))\n",
    "classes = sorted(list(set(classes)))\n",
    "# cache into binary files\n",
    "with open(CACHE / \"words.pkl\", \"wb\") as fh:\n",
    "    pickle.dump(words, fh)\n",
    "with open(CACHE/\"classes.pkl\", \"wb\") as fh:\n",
    "    pickle.dump(classes, fh)\n",
    "print(\"Set Sizes\")\n",
    "print(\"Documents:\",len(documents))\n",
    "print(\"Classes:\", len(classes))\n",
    "print(\"Words:\", len(words))\n"
   ]
  },
  {
   "cell_type": "markdown",
   "metadata": {},
   "source": [
    "# Create Training and Testing Set\n",
    "* What are we doing here with the documents and the words?\n",
    "* How does the creation of the training dataset work here?\n",
    "* Numeric conversion of input patterns into numbers\n",
    "    1. Lemmatize words of the pattern\n",
    "    2. Create the list of zeroes of the same value of the magnitude of the set of all words to be trained\n",
    "    3. Set value to be 1 for indices in the list of zeroes in which the word exists in the pattern\n",
    "    \n",
    "    \n",
    "* Numeric conversion of the input classes applying same method used in input pattern conversion"
   ]
  },
  {
   "cell_type": "code",
   "execution_count": null,
   "metadata": {},
   "outputs": [],
   "source": [
    "# recall that an item in the documents consists of the word pattern + class\n",
    "print(\"Entry:\",documents[0]) # entry\n",
    "print(\"Word pattern:\",documents[0][0]) # word pattern\n",
    "print(\"Class:\",documents[0][1]) # class"
   ]
  },
  {
   "cell_type": "code",
   "execution_count": null,
   "metadata": {},
   "outputs": [],
   "source": [
    "classes"
   ]
  },
  {
   "cell_type": "code",
   "execution_count": null,
   "metadata": {},
   "outputs": [],
   "source": [
    "x = []\n",
    "Y_empty = [0]*len(classes) \n",
    "# iterate over each entry in documents\n",
    "for d in documents:\n",
    "    print(\"Word pattern\", d)\n",
    "    bag = []\n",
    "    word_patterns = d[0] # access the word pattern\n",
    "    # lemmatize the entries in the selected word pattern\n",
    "    lemma_word_patterns = [lemmatizer.lemmatize(w.lower()) for\n",
    "                    w in word_patterns]\n",
    "    print(\"Lemmatized:\", word_patterns)\n",
    "    if (len(lemma_word_patterns) == len(word_patterns)):\n",
    "        print(\"Identified case in which the collection of words were reduced to their core meaning\")\n",
    "    # convert the lemmatized word pattern to a numerical value\n",
    "    for _ in words:\n",
    "        bag.append(1) if _ in lemma_word_patterns else bag.append(0)\n",
    "        \n",
    "    # create the label for the classes in numeric form\n",
    "    Y_row = list(Y_empty) \n",
    "    # set the activation on the output row\n",
    "    Y_row[classes.index(d[1])] = 1\n",
    "    print(\"Numeric Class:\",classes.index(d[1]))\n",
    "    print(\"Y_row:\",Y_row)\n",
    "    print()\n",
    "    x.append([bag, Y_row]) # add to the training set\n",
    "\n",
    "random.shuffle(x) # not sure if this is necessary? why shuffle the data when we create the training data with all of it and there is no test set\n",
    "x = np.array(x)\n",
    "x_train, Y_train = list(x[:,0]), list(x[:,1])\n"
   ]
  },
  {
   "cell_type": "code",
   "execution_count": null,
   "metadata": {},
   "outputs": [],
   "source": [
    "df_x_train  = pd.DataFrame(x_train)\n",
    "print(\"Training input shape:\",df_x_train.shape)\n",
    "# x_train"
   ]
  },
  {
   "cell_type": "code",
   "execution_count": null,
   "metadata": {},
   "outputs": [],
   "source": [
    "df_Y_train = pd.DataFrame(Y_train)\n",
    "print(\"Training output shape\",df_Y_train.shape)\n",
    "# Y_train"
   ]
  },
  {
   "cell_type": "markdown",
   "metadata": {},
   "source": [
    "Recall when the intents were loaded, that the size of documents was 47. \n",
    "The value of 47 represents the number of instances that are used to train the model. \n",
    "The value 87 is the number of features in the dataset ie the number of unique words that occur. \n",
    "9 is the number of classifcations for the entire dataset. "
   ]
  },
  {
   "cell_type": "markdown",
   "metadata": {},
   "source": [
    "# Create the Model\n",
    "* https://keras.io/guides/sequential_model/\n",
    "* https://www.tensorflow.org/api_docs/python/tf/keras/layers/Dense\n",
    "\n",
    "\n",
    "### Sequential Model\n",
    "* <b>When to use:</b> \n",
    "    - nice for a <b>plain stack of layers</b> ie each layer has <b>exactly one input tensor and one output tensor</b>\n",
    "* <b>When NOT to use:</b>\n",
    "    - model has multiple inputs and/or multiple outputs\n",
    "    - any of layers has multiple inputs and/or multiple outputs\n",
    "    - need layer sharing\n",
    "    - want non-linear topology (ie a residual connection, a multi-branch model)\n",
    "    \n",
    "    \n",
    "### Tensor\n",
    "* Link to <a href=\"Tensor Basics with Numpy.ipynb\">Tensor Basics Notebook</a>\n",
    "<img src=\"res/n-order-tensor.jpeg\" ><br> \n",
    "\n",
    "\n",
    "### Perceptron\n",
    "\n",
    "### Layer (Dense)\n",
    "\n",
    "\n",
    "### Rectified Linear Activation Function (ReLU) & Softmax\n",
    "* https://machinelearningmastery.com/rectified-linear-activation-function-for-deep-learning-neural-networks/\n",
    "* https://machinelearningmastery.com/softmax-activation-function-with-python/\n",
    "* https://deepai.org/machine-learning-glossary-and-terms/softmax-layer\n",
    "* Why softmax for the output activation? \n",
    "* Why ReLU for the input activation?\n",
    "\n",
    "### Stochastic Gradient Descent (SGD)\n"
   ]
  },
  {
   "cell_type": "code",
   "execution_count": null,
   "metadata": {},
   "outputs": [],
   "source": [
    "# use a deep neural network model\n",
    "model = Sequential()\n",
    "# add the 1st layer -- an input layer\n",
    "model.add(Dense(128, input_shape=(len(x_train[0]),), activation='relu'))\n",
    "model.add(Dropout(0.5))\n",
    "# add the 2nd layer -- a hidden layer?\n",
    "model.add(Dense(64, activation='relu'))\n",
    "model.add(Dropout(0.5))\n",
    "# add the 3rd layer -- an output layer\n",
    "model.add(Dense(len(Y_train[0]), activation='softmax'))\n",
    "# compile the model. SGD + Nesterov accel gradient yields good results \n",
    "# for the particular model\n",
    "sgd = SGD(lr=0.01, decay=1e-6, momentum=0.9, nesterov=True)\n",
    "model.compile(loss='categorical_crossentropy', \n",
    "              optimizer=sgd,\n",
    "              metrics=['accuracy'])\n",
    "print(\"Completed model compilation...\")\n",
    "# train model\n",
    "hist = model.fit(np.array(x_train), \n",
    "                 np.array(Y_train),\n",
    "                 epochs=200, \n",
    "                 batch_size=5,\n",
    "                 verbose=1)\n",
    "print(\"Completed model fitting...\")\n",
    "# cache model state into binary\n",
    "model.save(CACHE/ \"chatbot_model.h5\", hist)\n",
    "print(\"Completed model caching...\")\n"
   ]
  }
 ],
 "metadata": {
  "kernelspec": {
   "display_name": "Python 3",
   "language": "python",
   "name": "python3"
  },
  "language_info": {
   "codemirror_mode": {
    "name": "ipython",
    "version": 3
   },
   "file_extension": ".py",
   "mimetype": "text/x-python",
   "name": "python",
   "nbconvert_exporter": "python",
   "pygments_lexer": "ipython3",
   "version": "3.8.5"
  }
 },
 "nbformat": 4,
 "nbformat_minor": 4
}
